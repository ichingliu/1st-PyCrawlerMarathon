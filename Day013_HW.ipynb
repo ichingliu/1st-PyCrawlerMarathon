{
 "cells": [
  {
   "cell_type": "markdown",
   "metadata": {},
   "source": [
    "# PTT 網路爬蟲實作練習\n",
    "\n",
    "\n",
    "* 能夠利用 Request + BeatifulSour 撰寫爬蟲，並存放到合適的資料結構\n"
   ]
  },
  {
   "cell_type": "markdown",
   "metadata": {},
   "source": [
    "## 作業目標\n",
    "\n",
    "根據範例 ，完成以下問題：\n",
    "\n",
    "* ① 印出最新文章的「作者」「標題」「時間」\n",
    "* ② 印出第一頁所有文章的「作者」「標題」「時間」\n"
   ]
  },
  {
   "cell_type": "markdown",
   "metadata": {},
   "source": [
    "### ① 印出最新文章的「作者」「標題」「時間」"
   ]
  },
  {
   "cell_type": "code",
   "execution_count": 8,
   "metadata": {},
   "outputs": [
    {
     "name": "stdout",
     "output_type": "stream",
     "text": [
      "blue999 [花邊]林書豪被看破手腳?中媒:CBA生存比NBA更難 12/15\n",
      "kuluma [情報] WOJ：Doncic腳踝中度扭傷 12/15\n",
      "wowoin [討論] 077這個傷 12/15\n",
      "go190214 [新聞] 厄齊爾控中國迫害維吾爾 兵工廠仿NBA火箭 12/15\n",
      "thnlkj0665 [花邊] 告別CBA返美訓練 史陶德邁爾仍有意再戰NBA 12/15\n",
      "dog9527 [討論] 喬丹快閃為啥台灣人還這麼愛他 12/15\n",
      "MrSatan Re: [情報] LeBron James進入30歲後數據表現 12/15\n",
      "s27052705 [討論] 林書豪算亞裔第一控嗎？ 12/15\n",
      "GodEyes Re: [情報] De'Aaron Fox左腳踝第三級扭傷 12/15\n",
      "dwyanes Re: [新聞] 熱火昨輸球好冤 裁判3度漏吹都對湖人有利 12/15\n",
      "bbbyes123 [新聞] 球員清晨5點才下榻飯店 瑞佛斯砲轟賽程安 12/15\n",
      "Rambo [情報] ★今日排名(2019.12.15)★ 12/15\n",
      "a78998042a [情報] NBA Standings (Dec. 15, 2019)   12/15\n",
      "Ayanami5566 [討論] 目前誰最有可能拿到最佳進步獎? 12/15\n",
      "LillardTime [花邊] 拓荒者官方IG-Nurkic練球畫面 12/15\n",
      "AhUtopian [專欄] 公牛戰報：你不知道的事 12/15\n",
      "Gotham [新聞] 祝福唐西奇 巴特勒：願付錢看他打球 12/15\n",
      "Vedan [公告] 板規v6.6  5/24\n",
      "Vedan [公告] 樂透取消及未來不再開啟樂透  6/24\n",
      "qazwsx879345 [公告] 版主上任相關事項  10/25\n",
      "JerroLi [情報] SEASON Schedule 賽程 December 19–20 11/29\n",
      "dragon803 [公告]是否禁止basketball top 5文章投票開始  12/08\n"
     ]
    }
   ],
   "source": [
    "import requests\n",
    "from bs4 import BeautifulSoup\n",
    "\n",
    "url = 'https://www.ptt.cc/bbs/NBA/index.html'\n",
    "r = requests.get(url)\n",
    "\n",
    "soup = BeautifulSoup(r.text, \"html5lib\")\n",
    "\n",
    "for s in soup.find_all(class_=\"r-ent\"):\n",
    "    print(s.find(class_=\"author\").text, s.find(class_=\"title\").find(\"a\").text, s.find(class_=\"date\").text)"
   ]
  },
  {
   "cell_type": "markdown",
   "metadata": {},
   "source": [
    "### ② 印出第一頁所有文章的「作者」「標題」「時間」"
   ]
  },
  {
   "cell_type": "code",
   "execution_count": 9,
   "metadata": {},
   "outputs": [
    {
     "name": "stdout",
     "output_type": "stream",
     "text": [
      "Price [轉錄]Lyotard 對於太陽板討論串的結論  5/16\n",
      "Price [公告] 請停止一切關於本次活動的發言  5/31\n",
      "Frankaze [轉錄]跟之前那篇比起來 我覺得這篇也應該轉過來  6/08\n",
      "Frankaze [轉錄]再轉一篇好文來  6/08\n",
      "Price [轉錄][情報] 夏洛特山貓系列  6/10\n",
      "Price [轉錄]Re: [心得] 真是受不了糗爺....  6/10\n",
      "Price [轉錄]總冠軍賽NO.2觀後感  6/10\n",
      "AmuroNamie [心得] Rasheed Wallace  6/11\n",
      "toptree 掌控球賽的男人  6/12\n",
      "skchang [閒聊] 說說2004季後賽名場面回顧  6/12\n",
      "shineup [心得] 其實說穿了 就是活塞的防守太可怕了  6/12\n",
      "cOvi Re: [閒聊] 說說2004季後賽名場面回顧  6/12\n",
      "ykshih Re: [閒聊] 說說2004季後賽名場面回顧  6/12\n",
      "Frankaze Re: [閒聊] 說說2004季後賽名場面回顧  6/12\n",
      "Price [轉錄]Re: 總冠軍賽NO.3觀後感  6/14\n",
      "Frankaze [轉錄]Re: 總冠軍賽NO.3觀後感  6/14\n",
      "star1 Re: [轉錄]Re: 總冠軍賽NO.3觀後感  6/14\n",
      "coldspring Re: [轉錄]Re: 總冠軍賽NO.3觀後感  6/14\n",
      "airbear Re: Kobe is frustrated...  6/14\n",
      "pennykidd Re: [轉錄]Re: 總冠軍賽NO.3觀後感  6/14\n"
     ]
    }
   ],
   "source": [
    "url = 'https://www.ptt.cc/bbs/NBA/index1.html'\n",
    "r = requests.get(url)\n",
    "\n",
    "soup = BeautifulSoup(r.text, \"html5lib\")\n",
    "for s in soup.find_all(class_=\"r-ent\"):\n",
    "    print(s.find(class_=\"author\").text, s.find(class_=\"title\").find(\"a\").text, s.find(class_=\"date\").text)"
   ]
  },
  {
   "cell_type": "markdown",
   "metadata": {},
   "source": [
    "### ③ 試著爬爬看其他版的文章"
   ]
  },
  {
   "cell_type": "code",
   "execution_count": 10,
   "metadata": {},
   "outputs": [
    {
     "name": "stdout",
     "output_type": "stream",
     "text": [
      "crash121 [閒聊] 裝甲惡鬼 戰爭的本質 12/15\n",
      "wl760713 [情報] 2019 BW電子書 排名 史萊姆五等分 一二名 12/15\n",
      "pokemon8447 [閒聊] 推特圖分享 138 DC群招募中 12/15\n",
      "whe84311 [閒聊] 石虎少女作者喜迎第一負評 12/15\n",
      "Muma5566 [閒聊] 有什麼未亡人系列的角色或skin嗎？ 12/15\n",
      "rainnawind [閒聊] 這季山下大輝配的角色 最喜歡哪個？ 12/15\n",
      "GhostFather [問題] 出租女友的更科瑠夏的頭帶4不4暗示什麼 12/15\n",
      "venusyu [公主] 原來是阿爾馮斯阿，我心臟不好你別嚇我 12/16\n",
      "surimodo [閒聊] 凱留生氣了怎麼辦 12/16\n",
      "houseman1104 Re: [閒聊] 三玖在京都不衝是不是完全失策？ 12/16\n",
      "jschenlemn [公告] C_Chat板板規v.16.3.0+板務建議+好文補M   9/14\n",
      "jschenlemn [公告] 看板活動公告彙整 ＆ 置底推文閒聊區   6/16\n",
      "durantjosh [19秋] 2019年秋番 台灣觀賞管道整理(10/10) 10/01\n",
      "jschenlemn [公告] 系列文處置暫行計畫  12/08\n",
      "jschenlemn Fw: [板務] 累犯加重&4-5、4-7、4-11加重 12/09\n"
     ]
    }
   ],
   "source": [
    "url = 'https://www.ptt.cc/bbs/C_Chat/index.html'\n",
    "r = requests.get(url)\n",
    "\n",
    "soup = BeautifulSoup(r.text, \"html5lib\")\n",
    "for s in soup.find_all(class_=\"r-ent\"):\n",
    "    print(s.find(class_=\"author\").text, s.find(class_=\"title\").find(\"a\").text, s.find(class_=\"date\").text)"
   ]
  },
  {
   "cell_type": "code",
   "execution_count": null,
   "metadata": {},
   "outputs": [],
   "source": []
  }
 ],
 "metadata": {
  "kernelspec": {
   "display_name": "Python 3",
   "language": "python",
   "name": "python3"
  },
  "language_info": {
   "codemirror_mode": {
    "name": "ipython",
    "version": 3
   },
   "file_extension": ".py",
   "mimetype": "text/x-python",
   "name": "python",
   "nbconvert_exporter": "python",
   "pygments_lexer": "ipython3",
   "version": "3.7.4"
  }
 },
 "nbformat": 4,
 "nbformat_minor": 2
}
