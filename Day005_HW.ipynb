{
 "cells": [
  {
   "cell_type": "markdown",
   "metadata": {},
   "source": [
    "# API 資料串接 - 以 Dcard API 實作範例\n",
    "\n",
    "* 利用 urllib 套件的 urlretrieve 方法下載檔案\n",
    "* 了解 Python File I/O 讀檔、寫檔的用法\n",
    "* 能用運用資源管理器 With Statement 優化寫法"
   ]
  },
  {
   "cell_type": "markdown",
   "metadata": {},
   "source": [
    "## 作業目標\n",
    "\n",
    "* 請利用 API: https://www.dcard.tw/_api/forums/pet/posts?popular=true 回答下列問題：\n",
    "\n",
    "1. 這個 API 一次會回傳幾筆資料？每一筆資料包含哪些欄位？\n",
    "2. 取出每一筆資料的「標題」、「貼文時間」、「留言人數」、「按讚人數」\n",
    "3. 計算熱門/非熱門文章的「平均留言人數」與「平均按讚人數」"
   ]
  },
  {
   "cell_type": "code",
   "execution_count": 6,
   "metadata": {},
   "outputs": [],
   "source": [
    "# 1. 這個 API 一次會回傳幾筆資料？每一筆資料包含哪些欄位？\n"
   ]
  },
  {
   "cell_type": "code",
   "execution_count": 18,
   "metadata": {},
   "outputs": [
    {
     "name": "stdout",
     "output_type": "stream",
     "text": [
      "總共: 30\n",
      "id\n",
      "title\n",
      "excerpt\n",
      "anonymousSchool\n",
      "anonymousDepartment\n",
      "pinned\n",
      "forumId\n",
      "replyId\n",
      "createdAt\n",
      "updatedAt\n",
      "commentCount\n",
      "likeCount\n",
      "withNickname\n",
      "tags\n",
      "topics\n",
      "meta\n",
      "forumName\n",
      "forumAlias\n",
      "gender\n",
      "school\n",
      "replyTitle\n",
      "mediaMeta\n",
      "reactions\n",
      "hidden\n",
      "customStyle\n",
      "isSuspiciousAccount\n",
      "layout\n",
      "withImages\n",
      "withVideos\n",
      "media\n",
      "reportReasonText\n",
      "postAvatar\n"
     ]
    }
   ],
   "source": [
    "import requests\n",
    "import json\n",
    "web = requests.get('https://www.dcard.tw/_api/forums/pet/posts?popular=true')\n",
    "articles = json.loads(web.text)\n",
    "count = 0\n",
    "for w in articles:\n",
    "    #print(w['title'])\n",
    "    count +=1\n",
    "print('總共:', count)\n",
    "for key, value in articles[0].items() :\n",
    "    print (key)"
   ]
  },
  {
   "cell_type": "code",
   "execution_count": 19,
   "metadata": {},
   "outputs": [
    {
     "name": "stdout",
     "output_type": "stream",
     "text": [
      "#貓 #圖 我懷疑我家貓咪根本不覺得自己是貓咪 2019-11-29T15:01:23.745Z 24 1035\n",
      "找回失蹤狗狗😭 原來妳也在找我們 2019-11-29T22:33:34.440Z 31 1031\n",
      "🐰誰說兔子不能碰水！兔子❤️海灘 2019-11-29T07:34:46.328Z 65 946\n",
      "高以翔的療癒系狗狗theo 2019-11-29T13:52:33.150Z 3 839\n",
      "吸貓治百病 2019-11-29T06:53:05.300Z 12 343\n",
      "就是你！！！我的菜！！！ 2019-11-29T03:10:51.060Z 0 109\n",
      "有愛的假兄弟 2019-11-29T04:09:24.480Z 0 64\n",
      "我家柴犬一系列照片 2019-11-29T05:02:04.820Z 4 47\n",
      "被擠床原來是一件幸福的事 2019-11-30T04:15:42.699Z 4 34\n",
      "有貓快拜！！ 2019-11-30T03:07:22.599Z 1 34\n",
      "囤貓囤起來😻/圖多文長 2019-11-29T03:41:19.070Z 4 34\n",
      "有人要吸兔嗎？ 2019-11-30T04:58:10.195Z 13 30\n",
      "我家的貓每天睡覺前一定會做的事 2019-11-30T06:52:29.882Z 5 28\n",
      "免費寵物溝通 2019-11-29T11:58:23.732Z 19 25\n",
      "有人想要領養小貓咪嗎 2019-11-30T09:00:26.801Z 13 23\n",
      "媽 晚餐好了沒 2019-11-30T10:42:58.582Z 2 22\n",
      "限動裡的小三線們 2019-11-29T04:00:40.448Z 5 20\n",
      "虎斑狗想找寵物溝通師 2019-11-29T15:22:07.842Z 5 19\n",
      "求助！剛接回家的小貓生病了嗎 2019-11-29T13:35:26.621Z 3 18\n",
      "貓男友的拍照技術 2019-11-29T13:28:45.211Z 2 17\n",
      "貓咪走失了😭😭台中，水湳 2019-11-29T12:46:13.912Z 0 16\n",
      "#柴 #影片 到底有多討厭洗澡 2019-11-30T03:24:55.897Z 0 15\n",
      "限動滿滿的老鼠是怎樣 2019-11-29T09:05:18.406Z 19 15\n",
      "6個月小布偶貓 放臭屁 2019-11-29T15:56:00.789Z 6 14\n",
      "圖 厭世貓化石梗圖 2019-11-29T13:38:15.413Z 1 14\n",
      "威~柯基你母湯喔 2019-11-29T09:44:50.199Z 0 14\n",
      "白圍巾白手套橘貓❤️ 2019-11-30T07:44:14.420Z 6 13\n",
      "從可愛的小寶寶變成破壞王 2019-11-29T06:52:19.590Z 4 11\n",
      "貓咪尾巴狂抖是正常的嗎 2019-11-29T14:12:31.389Z 10 10\n",
      "就只知道睡 2019-11-29T12:25:50.680Z 2 10\n"
     ]
    }
   ],
   "source": [
    "# 2. 取出每一筆資料的「標題」、「貼文時間」、「留言人數」、「按讚人數」\n",
    "\n",
    "for a in articles:\n",
    "    print(a['title'], a['createdAt'], a['commentCount'], a['likeCount'])"
   ]
  },
  {
   "cell_type": "code",
   "execution_count": 23,
   "metadata": {},
   "outputs": [
    {
     "name": "stdout",
     "output_type": "stream",
     "text": [
      "熱門文章平均留言人數:  8.97 熱門文章平均按讚人數:  168.47\n",
      "非熱門文章平均留言人數:  2.47 非熱門文章平均按讚人數:  7.37\n"
     ]
    }
   ],
   "source": [
    "# 3. 計算熱門/非熱門文章的「平均留言人數」與「平均按讚人數」\n",
    "\n",
    "popular = requests.get('https://www.dcard.tw/_api/forums/pet/posts?popular=true')\n",
    "unpopular = requests.get('https://www.dcard.tw/_api/forums/pet/posts?popular=false')\n",
    "pop = json.loads(popular.text)\n",
    "unp = json.loads(unpopular.text)\n",
    "pop_c = 0\n",
    "pop_l = 0\n",
    "unp_c = 0\n",
    "unp_l = 0\n",
    "for p in pop:\n",
    "    pop_c += p['commentCount']\n",
    "    pop_l += p['likeCount']\n",
    "print('熱門文章平均留言人數: ', round(pop_c/30,2), '熱門文章平均按讚人數: ', round(pop_l/30,2))\n",
    "for u in unp:\n",
    "    unp_c += u['commentCount']\n",
    "    unp_l += u['likeCount']\n",
    "print('非熱門文章平均留言人數: ', round(unp_c/30,2), '非熱門文章平均按讚人數: ', round(unp_l/30,2))"
   ]
  },
  {
   "cell_type": "code",
   "execution_count": null,
   "metadata": {},
   "outputs": [],
   "source": []
  },
  {
   "cell_type": "code",
   "execution_count": null,
   "metadata": {},
   "outputs": [],
   "source": []
  }
 ],
 "metadata": {
  "kernelspec": {
   "display_name": "Python 3",
   "language": "python",
   "name": "python3"
  },
  "language_info": {
   "codemirror_mode": {
    "name": "ipython",
    "version": 3
   },
   "file_extension": ".py",
   "mimetype": "text/x-python",
   "name": "python",
   "nbconvert_exporter": "python",
   "pygments_lexer": "ipython3",
   "version": "3.7.4"
  }
 },
 "nbformat": 4,
 "nbformat_minor": 2
}
