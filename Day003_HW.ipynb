{
 "cells": [
  {
   "cell_type": "markdown",
   "metadata": {},
   "source": [
    "# Python 下載XML檔案與解析\n",
    "\n",
    "\n",
    "* 了解 xml 檔案格式與內容\n",
    "* 能夠利用套件存取 xml 格式的檔案\n"
   ]
  },
  {
   "cell_type": "markdown",
   "metadata": {},
   "source": [
    "## 作業目標\n",
    "\n",
    "* 比較一下範例檔案中的「File I/O」與「xmltodict」讀出來的內容有什麼差異\n",
    "\n",
    "* 根據範例檔案的結果：\n",
    "    1. 請問高雄市有多少地區有溫度資料？\n",
    "    2. 請取出每一個地區所記錄的第一個時間點跟溫度\n",
    "    3. 請取出第一個地區所記錄的每一個時間點跟溫度"
   ]
  },
  {
   "cell_type": "markdown",
   "metadata": {},
   "source": [
    "### 比較一下範例檔案中的「File I/O」與「xmltodict」讀出來的內容有什麼差異\n"
   ]
  },
  {
   "cell_type": "code",
   "execution_count": 3,
   "metadata": {},
   "outputs": [
    {
     "name": "stdout",
     "output_type": "stream",
     "text": [
      "<?xml version=\"1.0\" encoding=\"UTF-8\"?>\n",
      "\n",
      "<CUPOY>\n",
      "\n",
      "    <Title>爬蟲馬拉松</Title>\n",
      "\n",
      "    <Author>Wei</Author>\n",
      "\n",
      "    <Chapters>\n",
      "\n",
      "        <Chapter name=\"01\">資料來源與存取</Chapter>\n",
      "\n",
      "        <Chapter name=\"02\">靜態網頁爬蟲</Chapter>\n",
      "\n",
      "        <Chapter name=\"03\">動態網頁爬蟲</Chapter>\n",
      "\n",
      "    </Chapters>\n",
      "\n",
      "</CUPOY>\n"
     ]
    }
   ],
   "source": [
    "f = open(\"./data/D3data/sample.xml\", encoding=\"utf-8\")\n",
    "\n",
    "for line in f.readlines():\n",
    "    print(line)\n",
    "\n",
    "f.close()"
   ]
  },
  {
   "cell_type": "code",
   "execution_count": 15,
   "metadata": {},
   "outputs": [
    {
     "name": "stdout",
     "output_type": "stream",
     "text": [
      "爬蟲馬拉松\n",
      "01 資料來源與存取\n",
      "02 靜態網頁爬蟲\n",
      "03 動態網頁爬蟲\n"
     ]
    }
   ],
   "source": [
    "import xmltodict\n",
    "# 存取檔案\n",
    "\n",
    "with open(\"./data/D3data/sample.xml\", encoding=\"utf-8\") as fd:\n",
    "    doc = dict(xmltodict.parse(fd.read()))\n",
    "# 存取我們的資訊\n",
    "    print(doc['CUPOY']['Title'])\n",
    "    \n",
    "# ⽤用迴圈存取我們的資訊\n",
    "chapters = doc['CUPOY']['Chapters']['Chapter']\n",
    "for chapter in chapters:\n",
    "    print (chapter['@name'], chapter['#text'])"
   ]
  },
  {
   "cell_type": "markdown",
   "metadata": {},
   "source": [
    "### 根據範例檔案的結果：\n",
    "\n",
    "1. 請問高雄市有多少地區有溫度資料？\n",
    "2. 請取出每一個地區所記錄的第一個時間點跟溫度\n",
    "3. 請取出第一個地區所記錄的每一個時間點跟溫度"
   ]
  },
  {
   "cell_type": "code",
   "execution_count": 30,
   "metadata": {},
   "outputs": [
    {
     "name": "stdout",
     "output_type": "stream",
     "text": [
      "38\n"
     ]
    }
   ],
   "source": [
    "# 1. 請問高雄市有多少地區有溫度資料？\n",
    "\n",
    "with open(\"./data/D3data/64_72hr_CH.xml\", encoding=\"utf-8\") as db:\n",
    "    data = dict(xmltodict.parse(db.read()))\n",
    "\n",
    "locations = data['cwbopendata']['dataset']['locations']['location']\n",
    "count = 0\n",
    "for location in locations:\n",
    "    name = location['locationName']\n",
    "    temp = location['weatherElement'][0]['time'][0]['elementValue']['value']\n",
    "    if temp != \" \":\n",
    "        #print (name, temp)\n",
    "        count += 1\n",
    "        \n",
    "print(count)"
   ]
  },
  {
   "cell_type": "code",
   "execution_count": 34,
   "metadata": {},
   "outputs": [
    {
     "name": "stdout",
     "output_type": "stream",
     "text": [
      "鹽埕區 2019-06-28T12:00:00+08:00 33\n",
      "鼓山區 2019-06-28T12:00:00+08:00 33\n",
      "左營區 2019-06-28T12:00:00+08:00 33\n",
      "楠梓區 2019-06-28T12:00:00+08:00 34\n",
      "三民區 2019-06-28T12:00:00+08:00 32\n",
      "新興區 2019-06-28T12:00:00+08:00 33\n",
      "前金區 2019-06-28T12:00:00+08:00 33\n",
      "苓雅區 2019-06-28T12:00:00+08:00 33\n",
      "前鎮區 2019-06-28T12:00:00+08:00 33\n",
      "旗津區 2019-06-28T12:00:00+08:00 32\n",
      "小港區 2019-06-28T12:00:00+08:00 33\n",
      "鳳山區 2019-06-28T12:00:00+08:00 34\n",
      "林園區 2019-06-28T12:00:00+08:00 33\n",
      "大寮區 2019-06-28T12:00:00+08:00 34\n",
      "大樹區 2019-06-28T12:00:00+08:00 34\n",
      "大社區 2019-06-28T12:00:00+08:00 34\n",
      "仁武區 2019-06-28T12:00:00+08:00 33\n",
      "鳥松區 2019-06-28T12:00:00+08:00 34\n",
      "岡山區 2019-06-28T12:00:00+08:00 34\n",
      "橋頭區 2019-06-28T12:00:00+08:00 35\n",
      "燕巢區 2019-06-28T12:00:00+08:00 34\n",
      "田寮區 2019-06-28T12:00:00+08:00 34\n",
      "阿蓮區 2019-06-28T12:00:00+08:00 34\n",
      "路竹區 2019-06-28T12:00:00+08:00 33\n",
      "湖內區 2019-06-28T12:00:00+08:00 33\n",
      "茄萣區 2019-06-28T12:00:00+08:00 33\n",
      "永安區 2019-06-28T12:00:00+08:00 32\n",
      "彌陀區 2019-06-28T12:00:00+08:00 32\n",
      "梓官區 2019-06-28T12:00:00+08:00 32\n",
      "旗山區 2019-06-28T12:00:00+08:00 34\n",
      "美濃區 2019-06-28T12:00:00+08:00 34\n",
      "六龜區 2019-06-28T12:00:00+08:00 34\n",
      "甲仙區 2019-06-28T12:00:00+08:00 33\n",
      "杉林區 2019-06-28T12:00:00+08:00 36\n",
      "內門區 2019-06-28T12:00:00+08:00 34\n",
      "茂林區 2019-06-28T12:00:00+08:00 34\n",
      "桃源區 2019-06-28T12:00:00+08:00 31\n",
      "那瑪夏區 2019-06-28T12:00:00+08:00 29\n"
     ]
    }
   ],
   "source": [
    "# 2. 請取出每一個地區所記錄的第一個時間點跟溫度\n",
    "\n",
    "with open(\"./data/D3data/64_72hr_CH.xml\", encoding=\"utf-8\") as db:\n",
    "    data = dict(xmltodict.parse(db.read()))\n",
    "\n",
    "locations = data['cwbopendata']['dataset']['locations']['location']\n",
    "#count = 0\n",
    "for location in locations:\n",
    "    name = location['locationName']\n",
    "    time = location['weatherElement'][0]['time'][0]['dataTime']\n",
    "    temp = location['weatherElement'][0]['time'][0]['elementValue']['value']\n",
    "    if temp != \" \":\n",
    "        print (name, time, temp)\n",
    "        #count += 1"
   ]
  },
  {
   "cell_type": "code",
   "execution_count": 36,
   "metadata": {},
   "outputs": [
    {
     "name": "stdout",
     "output_type": "stream",
     "text": [
      "鹽埕區 2019-06-28T12:00:00+08:00 33\n",
      "鹽埕區 2019-06-28T15:00:00+08:00 33\n",
      "鹽埕區 2019-06-28T18:00:00+08:00 32\n",
      "鹽埕區 2019-06-28T21:00:00+08:00 30\n",
      "鹽埕區 2019-06-29T00:00:00+08:00 30\n",
      "鹽埕區 2019-06-29T03:00:00+08:00 29\n",
      "鹽埕區 2019-06-29T06:00:00+08:00 28\n",
      "鹽埕區 2019-06-29T09:00:00+08:00 31\n",
      "鹽埕區 2019-06-29T12:00:00+08:00 32\n",
      "鹽埕區 2019-06-29T15:00:00+08:00 32\n",
      "鹽埕區 2019-06-29T18:00:00+08:00 31\n",
      "鹽埕區 2019-06-29T21:00:00+08:00 30\n",
      "鹽埕區 2019-06-30T00:00:00+08:00 29\n",
      "鹽埕區 2019-06-30T03:00:00+08:00 28\n",
      "鹽埕區 2019-06-30T06:00:00+08:00 28\n",
      "鹽埕區 2019-06-30T09:00:00+08:00 31\n",
      "鹽埕區 2019-06-30T12:00:00+08:00 32\n",
      "鹽埕區 2019-06-30T15:00:00+08:00 32\n",
      "鹽埕區 2019-06-30T18:00:00+08:00 31\n",
      "鹽埕區 2019-06-30T21:00:00+08:00 30\n",
      "鹽埕區 2019-07-01T00:00:00+08:00 29\n",
      "鹽埕區 2019-07-01T03:00:00+08:00 29\n",
      "鹽埕區 2019-07-01T06:00:00+08:00 28\n",
      "鹽埕區 2019-07-01T09:00:00+08:00 31\n"
     ]
    }
   ],
   "source": [
    "# 3. 請取出第一個地區所記錄的每一個時間點跟溫度\n",
    "\n",
    "with open(\"./data/D3data/64_72hr_CH.xml\", encoding=\"utf-8\") as db:\n",
    "    data = dict(xmltodict.parse(db.read()))\n",
    "\n",
    "location = data['cwbopendata']['dataset']['locations']['location'][0]\n",
    "#count = 0\n",
    "name = location['locationName']\n",
    "time = location['weatherElement'][0]['time']\n",
    "for t in time:\n",
    "    temp = t['elementValue']['value']\n",
    "    print (name, t['dataTime'], temp)\n",
    "#count += 1"
   ]
  },
  {
   "cell_type": "code",
   "execution_count": null,
   "metadata": {},
   "outputs": [],
   "source": []
  }
 ],
 "metadata": {
  "kernelspec": {
   "display_name": "Python 3",
   "language": "python",
   "name": "python3"
  },
  "language_info": {
   "codemirror_mode": {
    "name": "ipython",
    "version": 3
   },
   "file_extension": ".py",
   "mimetype": "text/x-python",
   "name": "python",
   "nbconvert_exporter": "python",
   "pygments_lexer": "ipython3",
   "version": "3.7.4"
  }
 },
 "nbformat": 4,
 "nbformat_minor": 2
}
